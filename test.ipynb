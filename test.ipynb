{
 "cells": [
  {
   "cell_type": "code",
   "execution_count": 41,
   "source": [
    "lista=list(range(1,101,1))\r\n",
    "n = 55"
   ],
   "outputs": [],
   "metadata": {}
  },
  {
   "cell_type": "code",
   "execution_count": 57,
   "source": [
    "hd = dict ()\r\n",
    "lld = len(lista)\r\n",
    "while lld != 0 : \r\n",
    "    lld = lld // 2 \r\n",
    "    key = \"half_\"+str(lld)\r\n",
    "    hd[key] = lld"
   ],
   "outputs": [],
   "metadata": {}
  },
  {
   "cell_type": "code",
   "execution_count": 69,
   "source": [
    "hd"
   ],
   "outputs": [
    {
     "output_type": "execute_result",
     "data": {
      "text/plain": [
       "{'half_50': 50,\n",
       " 'half_25': 25,\n",
       " 'half_12': 12,\n",
       " 'half_6': 6,\n",
       " 'half_3': 3,\n",
       " 'half_1': 1,\n",
       " 'half_0': 0}"
      ]
     },
     "metadata": {},
     "execution_count": 69
    }
   ],
   "metadata": {}
  },
  {
   "cell_type": "code",
   "execution_count": 68,
   "source": [
    "\r\n",
    "\r\n",
    "\r\n",
    "if n > hd['half_50']: \r\n",
    "    print (\"mayor que {}\".format(hd['half_50']))\r\n",
    "    \r\n",
    "    if n > hd['half_50'] + hd['half_25']:\r\n",
    "        print(\" {} está entre {} y {} \".format(n,hd['half_50'],hd['half_25']))\r\n",
    "    elif n < hd['half_50'] + hd['half_25']:\r\n",
    "        print(\" {} está entre {} y {} \".format(n,hd['half_50'],hd['half_50']+hd['half_25']))\r\n",
    "        if n < hd['half_50'] + hd['half_12']:\r\n",
    "            "
   ],
   "outputs": [
    {
     "output_type": "stream",
     "name": "stdout",
     "text": [
      "mayor que 50\n",
      " 55 está entre 50 y 75 \n"
     ]
    }
   ],
   "metadata": {}
  },
  {
   "cell_type": "code",
   "execution_count": 72,
   "source": [
    "len(lista)"
   ],
   "outputs": [
    {
     "output_type": "execute_result",
     "data": {
      "text/plain": [
       "100"
      ]
     },
     "metadata": {},
     "execution_count": 72
    }
   ],
   "metadata": {}
  },
  {
   "cell_type": "code",
   "execution_count": 83,
   "source": [
    "def binary_search(x,lista):\r\n",
    "    limite_inferior = 0 \r\n",
    "    longitud_lista = len(lista)\r\n",
    "    mitad = 0 \r\n",
    "     \r\n",
    "    while limite_inferior <= longitud_lista: \r\n",
    "\r\n",
    "        mitad = (longitud_lista + limite_inferior ) // 2 \r\n",
    "\r\n",
    "        if x > lista[mitad]:\r\n",
    "            print(\"N es mayor que {}\".format(lista[mitad]))\r\n",
    "            limite_inferior = mitad  \r\n",
    "            \r\n",
    "        \r\n",
    "        elif x < lista[mitad]:\r\n",
    "            print(\"N es menor que {}\".format(lista[mitad]))\r\n",
    "            longitud_lista = mitad \r\n",
    "\r\n",
    "        else :\r\n",
    "            return mitad    \r\n",
    "        \r\n",
    "        \r\n",
    "\r\n",
    "\r\n",
    "binary_search(45,lista)"
   ],
   "outputs": [
    {
     "output_type": "stream",
     "name": "stdout",
     "text": [
      "N es menor que 51\n",
      "N es mayor que 26\n",
      "N es mayor que 38\n",
      "N es mayor que 44\n",
      "N es menor que 47\n"
     ]
    },
    {
     "output_type": "execute_result",
     "data": {
      "text/plain": [
       "44"
      ]
     },
     "metadata": {},
     "execution_count": 83
    }
   ],
   "metadata": {}
  }
 ],
 "metadata": {
  "orig_nbformat": 4,
  "language_info": {
   "name": "python",
   "version": "3.7.3",
   "mimetype": "text/x-python",
   "codemirror_mode": {
    "name": "ipython",
    "version": 3
   },
   "pygments_lexer": "ipython3",
   "nbconvert_exporter": "python",
   "file_extension": ".py"
  },
  "kernelspec": {
   "name": "python3",
   "display_name": "Python 3.7.3 64-bit ('base': conda)"
  },
  "interpreter": {
   "hash": "ad15530d9d3c1bace80edbe998ddde9388452fbdabafee8e4fbdea80650a1911"
  }
 },
 "nbformat": 4,
 "nbformat_minor": 2
}